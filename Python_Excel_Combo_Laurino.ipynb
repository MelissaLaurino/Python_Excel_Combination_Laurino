{
 "cells": [
  {
   "cell_type": "markdown",
   "metadata": {},
   "source": [
    "<b>Melissa Laurino</b> <br>\n",
    "12/14/19 <br>\n",
    "Stockton University"
   ]
  },
  {
   "cell_type": "markdown",
   "metadata": {},
   "source": [
    "<b>Using Python 3 and Pandas to compile excel data sheets:</b><br>\n",
    "Model used: https://stackoverflow.com/questions/15793349/how-to-concatenate-three-excels-files-xlsx-using-python"
   ]
  },
  {
   "cell_type": "code",
   "execution_count": 1,
   "metadata": {},
   "outputs": [],
   "source": [
    "#Import necessary libraries:\n",
    "import pandas as pd\n",
    "import os"
   ]
  },
  {
   "cell_type": "markdown",
   "metadata": {},
   "source": [
    "Ensure the Jupyter notebook (.ipynb) document and excel sheets (.xlsx) are located in the same directory. If not, you will have to locate the directory first."
   ]
  },
  {
   "cell_type": "code",
   "execution_count": 11,
   "metadata": {},
   "outputs": [],
   "source": [
    "#List all the files in the folder you would like to combine:\n",
    "#Example: #os.listdir(\"DataCombo\")"
   ]
  },
  {
   "cell_type": "code",
   "execution_count": 4,
   "metadata": {},
   "outputs": [],
   "source": [
    "#Use the list to define your excel sheets\n",
    "excel_sheets = ['2019_07_27.xlsx',\n",
    " '2019_07_28.xlsx',\n",
    " '2019_07_29.xlsx',\n",
    " '2019_07_30.xlsx',\n",
    " '2019_07_31.xlsx',\n",
    " '2019_08_01.xlsx',\n",
    " '2019_08_02.xlsx',\n",
    " '2019_08_04.xlsx',\n",
    " '2019_08_05.xlsx',\n",
    " '2019_08_06.xlsx',\n",
    " '2019_08_07.xlsx',\n",
    " '2019_08_08.xlsx',\n",
    " '2019_08_09.xlsx',\n",
    " '2019_08_10.xlsx',\n",
    " '2019_08_11.xlsx',\n",
    " '2019_08_12.xlsx',\n",
    " '2019_08_13.xlsx',\n",
    " '2019_08_14.xlsx',\n",
    " '2019_08_15.xlsx',\n",
    " '2019_08_16.xlsx',\n",
    " '2019_08_17.xlsx',\n",
    " '2019_08_18.xlsx',\n",
    " '2019_08_19.xlsx',\n",
    " '2019_08_21.xlsx',\n",
    " '2019_08_22.xlsx',\n",
    " '2019_08_23.xlsx',\n",
    " '2019_08_24.xlsx',\n",
    " '2019_08_25.xlsx',\n",
    " '2019_08_26.xlsx',\n",
    " '2019_08_27.xlsx',\n",
    " '2019_08_28.xlsx',\n",
    " '2019_08_29.xlsx',\n",
    " '2019_08_30.xlsx',\n",
    " '2019_08_31.xlsx',\n",
    " '2019_09_01.xlsx',\n",
    " '2019_09_02.xlsx',\n",
    " '2019_09_03.xlsx',\n",
    " '2019_09_04.xlsx',\n",
    " '2019_09_05.xlsx',\n",
    " '2019_09_07.xlsx',\n",
    " '2019_09_08.xlsx',\n",
    " '2019_09_09.xlsx',\n",
    " '2019_09_10.xlsx',\n",
    " '2019_09_11.xlsx',\n",
    " '2019_09_12.xlsx',\n",
    " '2019_09_14.xlsx',\n",
    " '2019_09_16.xlsx',\n",
    " '2019_09_17.xlsx',\n",
    " '2019_09_18.xlsx',\n",
    " '2019_09_19.xlsx',\n",
    " '2019_09_20.xlsx',\n",
    " '2019_09_21.xlsx',\n",
    " '2019_09_22.xlsx',\n",
    " '2019_09_23.xlsx',\n",
    " '2019_09_24.xlsx',\n",
    " '2019_09_25.xlsx',\n",
    " '2019_09_27.xlsx',\n",
    " '2019_09_28.xlsx',\n",
    " '2019_09_29.xlsx',\n",
    " '2019_09_30.xlsx',\n",
    " '2019_10_01.xlsx',\n",
    " '2019_10_02.xlsx',\n",
    " '2019_10_04.xlsx',\n",
    " '2019_10_05.xlsx',\n",
    " '2019_10_06.xlsx',\n",
    " '2019_10_07.xlsx',\n",
    " '2019_10_12.xlsx',\n",
    " '2019_10_13.xlsx',\n",
    " '2019_10_14.xlsx',\n",
    " '2019_10_19.xlsx',\n",
    " '2019_10_20.xlsx',\n",
    " '2019_10_26.xlsx',\n",
    " '2019_11_02.xlsx',\n",
    " '2019_11_03.xlsx',\n",
    " '2019_11_09.xlsx',\n",
    " '2019_11_23.xlsx',\n",
    " '2019_11_30.xlsx']"
   ]
  },
  {
   "cell_type": "code",
   "execution_count": 5,
   "metadata": {},
   "outputs": [],
   "source": [
    "#Read them into Pandas\n",
    "excels = [pd.ExcelFile(name) for name in excel_sheets]"
   ]
  },
  {
   "cell_type": "code",
   "execution_count": 6,
   "metadata": {},
   "outputs": [],
   "source": [
    "#Create a data frame using Pandas\n",
    "frames = [x.parse(x.sheet_names[0], header=None,index_col=None) for x in excels]"
   ]
  },
  {
   "cell_type": "code",
   "execution_count": 7,
   "metadata": {},
   "outputs": [],
   "source": [
    "#For each data frame, remove the header row on all excel sheets except the first one in the list.\n",
    "#This step may or may not be necessary based on your data.\n",
    "frames[1:] = [df[1:] for df in frames[1:]]"
   ]
  },
  {
   "cell_type": "code",
   "execution_count": 8,
   "metadata": {},
   "outputs": [],
   "source": [
    "#Use pandas command \"concatenate\" to combine the data sheets:\n",
    "combined = pd.concat(frames)"
   ]
  },
  {
   "cell_type": "code",
   "execution_count": 9,
   "metadata": {},
   "outputs": [],
   "source": [
    "#Save the new combined document to the directory:\n",
    "combined.to_excel(\"testdatacombo.xlsx\", header=False, index=False)"
   ]
  },
  {
   "cell_type": "markdown",
   "metadata": {},
   "source": [
    "If you are combining different version of Excel sheets composed on Mac/PC, 2007/2003 etc., you may encounter a calculation discrepancy with Dates or other variables due to the 1904 date system. With my data, sometimes the dates in excel may shift four years due to this system.\n",
    "<br>Follow this tutorial to fix your discrepancy:<br>\n",
    "https://www.accountingweb.com/technology/excel/when-excel-dates-mysteriously-shift-by-4-years<br>\n",
    "IF the tutorial does not fix your discrepancy, you may be able to quickly copy and paste a column into Microsoft Notepad to fix the format issue.<br>"
   ]
  },
  {
   "cell_type": "code",
   "execution_count": null,
   "metadata": {},
   "outputs": [],
   "source": []
  }
 ],
 "metadata": {
  "kernelspec": {
   "display_name": "Python 3",
   "language": "python",
   "name": "python3"
  },
  "language_info": {
   "codemirror_mode": {
    "name": "ipython",
    "version": 3
   },
   "file_extension": ".py",
   "mimetype": "text/x-python",
   "name": "python",
   "nbconvert_exporter": "python",
   "pygments_lexer": "ipython3",
   "version": "3.7.3"
  }
 },
 "nbformat": 4,
 "nbformat_minor": 2
}
