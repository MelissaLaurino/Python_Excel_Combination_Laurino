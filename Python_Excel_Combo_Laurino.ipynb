{
 "cells": [
  {
   "cell_type": "markdown",
   "metadata": {},
   "source": [
    "<b>Melissa Laurino</b> <br>\n",
    "12/14/19 <br>\n",
    "Stockton University"
   ]
  },
  {
   "cell_type": "markdown",
   "metadata": {},
   "source": [
    "# <b>Using Python 3 and Pandas to compile excel data sheets:</b>\n",
    "Model used: https://stackoverflow.com/questions/15793349/how-to-concatenate-three-excels-files-xlsx-using-python"
   ]
  },
  {
   "cell_type": "code",
   "execution_count": 1,
   "metadata": {},
   "outputs": [],
   "source": [
    "#Import necessary libraries:\n",
    "import pandas as pd\n",
    "import os\n",
    "from os import listdir"
   ]
  },
  {
   "cell_type": "markdown",
   "metadata": {},
   "source": [
    "Ensure the Jupyter notebook (.ipynb) document and excel sheets (.xlsx) are located in the same directory. If not, you will have to locate the directory first."
   ]
  },
  {
   "cell_type": "code",
   "execution_count": 3,
   "metadata": {},
   "outputs": [],
   "source": [
    "#List all the files in the folder you would like to combine:\n",
    "#Example: #os.listdir(\"DataCombo\")\n",
    "os.listdir()"
   ]
  },
  {
   "cell_type": "code",
   "execution_count": 23,
   "metadata": {},
   "outputs": [],
   "source": [
    "#Use the list to define your excel sheets (I )\n",
    "excel_sheets = ['09_16@10.00TW.xls',\n",
    " '09_16@13.00TW.xls',\n",
    " '09_20@13.00TW.xls',\n",
    " '09_21@10.00TW.xls',\n",
    " '09_21@13.00TW.xls',\n",
    " '09_22@10.00TW.xls',\n",
    " '09_22@13.00TW.xls',\n",
    " '09_23@10.00TW.xls',\n",
    " '09_23@13.00TW.xls',\n",
    " '09_26@10.00TW.xls',\n",
    " '09_26@13.00TW.xls',\n",
    " '09_27@10.00TW.xls',\n",
    " '09_27@13.00TW.xls',\n",
    " '09_28@13.00TW.xls',\n",
    " '09_29@10.20TW.xls',\n",
    " '09_29@13.10TW.xls',\n",
    " '09_30@10.00TW.xls',\n",
    " '10_02@10.00TW.xls',\n",
    " '10_02@13.00TW.xls',\n",
    " '10_03@13.00TW.xls',\n",
    " '10_06@13.00TW.xls',\n",
    " '10_07@13.00TW.xls',\n",
    " '10_08@10.00TW.xls',\n",
    " '10_08@13.00TW.xls',\n",
    " '10_09@10.00TW.xls',\n",
    " '10_09@13.00TW.xls',\n",
    " '10_10@10.00TW.xls',\n",
    " '10_10@13.00TW.xls',\n",
    " '10_11@13.00TW.xls',\n",
    " '10_15@13.00TW.xls',\n",
    " '10_17@13.00TW.xls',\n",
    " '10_22@13.00TW.xls',\n",
    " '10_23@13.00TW.xls',\n",
    " '10_28@13.00TW.xls',\n",
    " '10_30@13.00TW.xls']"
   ]
  },
  {
   "cell_type": "code",
   "execution_count": 4,
   "metadata": {},
   "outputs": [],
   "source": [
    "#Read them into Pandas\n",
    "excels = [pd.ExcelFile(name) for name in excel_sheets]"
   ]
  },
  {
   "cell_type": "code",
   "execution_count": 31,
   "metadata": {},
   "outputs": [],
   "source": [
    "#Create a data frame using Pandas\n",
    "frames = [x.parse(x.sheet_names[0], header=None,index_col=None) for x in excels]"
   ]
  },
  {
   "cell_type": "code",
   "execution_count": 20,
   "metadata": {},
   "outputs": [],
   "source": [
    "#For each data frame, remove the header row on all excel sheets except the first one in the list.\n",
    "#This step may or may not be necessary based on your data.\n",
    "frames[1:] = [df[1:] for df in frames[1:]]"
   ]
  },
  {
   "cell_type": "code",
   "execution_count": 21,
   "metadata": {},
   "outputs": [],
   "source": [
    "#Use pandas command \"concatenate\" to combine the data sheets:\n",
    "combined = pd.concat(frames)"
   ]
  },
  {
   "cell_type": "code",
   "execution_count": 22,
   "metadata": {},
   "outputs": [],
   "source": [
    "#Save the new combined document to the directory:\n",
    "combined.to_excel(\"2011DataCombo.xlsx\", header=False, index=False)"
   ]
  },
  {
   "cell_type": "markdown",
   "metadata": {},
   "source": [
    "If you are combining different version of Excel sheets composed on Mac/PC, 2007/2003 etc., you may encounter a calculation discrepancy with Dates or other variables due to the 1904 date system. With my data, sometimes the dates in excel may shift four years due to this system.\n",
    "<br>Follow this tutorial to fix your discrepancy:<br>\n",
    "https://www.accountingweb.com/technology/excel/when-excel-dates-mysteriously-shift-by-4-years<br>\n",
    "IF the tutorial does not fix your discrepancy, you may be able to quickly copy and paste a column into Microsoft Notepad to fix the format issue.<br>"
   ]
  },
  {
   "cell_type": "markdown",
   "metadata": {},
   "source": [
    "# Using Python 3 and Pandas to combine data from specific excel sheets/tabs within .xls files:"
   ]
  },
  {
   "cell_type": "markdown",
   "metadata": {},
   "source": [
    "Updated 11/1/2020 - https://pythoninoffice.com/use-python-to-combine-multiple-excel-files/"
   ]
  },
  {
   "cell_type": "code",
   "execution_count": 10,
   "metadata": {},
   "outputs": [],
   "source": [
    "#List all the files in the folder you would like to combine:\n",
    "#Example: #os.listdir(\"DataCombo\")\n",
    "#os.listdir()"
   ]
  },
  {
   "cell_type": "code",
   "execution_count": 3,
   "metadata": {},
   "outputs": [],
   "source": [
    "files = ['09_16@10.00TW.xls',\n",
    " '09_16@13.00TW.xls',\n",
    " '09_20@13.00TW.xls',\n",
    " '09_21@10.00TW.xls',\n",
    " '09_21@13.00TW.xls',\n",
    " '09_22@10.00TW.xls',\n",
    " '09_22@13.00TW.xls',\n",
    " '09_23@10.00TW.xls',\n",
    " '09_23@13.00TW.xls',\n",
    " '09_26@10.00TW.xls',\n",
    " '09_26@13.00TW.xls',\n",
    " '09_27@10.00TW.xls',\n",
    " '09_27@13.00TW.xls',\n",
    " '09_28@13.00TW.xls',\n",
    " '09_29@10.20TW.xls',\n",
    " '09_29@13.10TW.xls',\n",
    " '09_30@10.00TW.xls',\n",
    " '10_02@10.00TW.xls',\n",
    " '10_02@13.00TW.xls',\n",
    " '10_03@13.00TW.xls',\n",
    " '10_06@13.00TW.xls',\n",
    " '10_07@13.00TW.xls',\n",
    " '10_08@10.00TW.xls',\n",
    " '10_08@13.00TW.xls',\n",
    " '10_09@10.00TW.xls',\n",
    " '10_09@13.00TW.xls',\n",
    " '10_10@10.00TW.xls',\n",
    " '10_10@13.00TW.xls',\n",
    " '10_11@13.00TW.xls',\n",
    " '10_15@13.00TW.xls',\n",
    " '10_17@13.00TW.xls',\n",
    " '10_22@13.00TW.xls',\n",
    " '10_23@13.00TW.xls',\n",
    " '10_28@13.00TW.xls',\n",
    " '10_30@13.00TW.xls']"
   ]
  },
  {
   "cell_type": "code",
   "execution_count": 7,
   "metadata": {},
   "outputs": [],
   "source": [
    "df_total = pd.DataFrame()\n",
    "#Loop through each individual file in the files:\n",
    "for file in files:                         \n",
    "    if file.endswith('.xls'):\n",
    "        excel_file = pd.ExcelFile(file)\n",
    "        sheets = excel_file.sheet_names\n",
    "#Loop through the specified labeled sheets in the excel files:        \n",
    "        for sheet in sheets:               \n",
    "            df = excel_file.parse(sheet_name = 'SIGHTINGS')\n",
    "            df_total = df_total.append(df)\n",
    "#Combine into master file:\n",
    "df_total.to_excel('specific_sheets.xlsx')"
   ]
  },
  {
   "cell_type": "code",
   "execution_count": null,
   "metadata": {},
   "outputs": [],
   "source": []
  }
 ],
 "metadata": {
  "kernelspec": {
   "display_name": "Python 3",
   "language": "python",
   "name": "python3"
  },
  "language_info": {
   "codemirror_mode": {
    "name": "ipython",
    "version": 3
   },
   "file_extension": ".py",
   "mimetype": "text/x-python",
   "name": "python",
   "nbconvert_exporter": "python",
   "pygments_lexer": "ipython3",
   "version": "3.7.3"
  }
 },
 "nbformat": 4,
 "nbformat_minor": 2
}
